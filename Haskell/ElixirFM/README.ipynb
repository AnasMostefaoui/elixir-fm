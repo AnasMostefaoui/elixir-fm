{
 "cells": [
  {
   "cell_type": "markdown",
   "metadata": {},
   "source": [
    "# ElixirFM / Haskell"
   ]
  },
  {
   "cell_type": "markdown",
   "metadata": {},
   "source": [
    "You can enjoy the [Haskell library of ElixirFM](http://github.com/otakar-smrz/elixir-fm/tree/master/Haskell/ElixirFM) from within [IHaskell](http://github.com/gibiansky/IHaskell) in [Jupyter Notebook](http://jupyter.org), the [Haskell Platform](https://www.haskell.org/platform), or even [Hugs](https://wiki.haskell.org/Hugs).\n",
    "\n",
    "    cabal install\n",
    "    jupyter notebook README.ipynb\n",
    "\n",
    "This notebook focuses on using ElixirFM from within Haskell, assuming the ElixirFM library is [compiled](http://github.com/otakar-smrz/elixir-fm/tree/master/README.md) and the `elixir` executable is [installed](http://github.com/otakar-smrz/elixir-fm/tree/master/README.ipynb).\n",
    "\n",
    "The design principles of ElixirFM are described in the [Functional Arabic Morphology](http://elixir-fm.sf.net/elixir-thesis.pdf#page=15) thesis. The details keep evolving."
   ]
  },
  {
   "cell_type": "code",
   "execution_count": 1,
   "metadata": {
    "collapsed": false,
    "scrolled": true
   },
   "outputs": [
    {
     "data": {
      "text/plain": [
       "~"
      ]
     },
     "metadata": {},
     "output_type": "display_data"
    }
   ],
   "source": [
    ":! cd ~\n",
    ":! pwd | perl -pe 's{'$HOME'}''{~}'"
   ]
  },
  {
   "cell_type": "code",
   "execution_count": 2,
   "metadata": {
    "collapsed": false
   },
   "outputs": [
    {
     "data": {
      "text/plain": [
       "Version {versionBranch = [1,2,2], versionTags = [\"June 2016\"]}"
      ]
     },
     "metadata": {},
     "output_type": "display_data"
    }
   ],
   "source": [
    "import ElixirFM\n",
    "\n",
    "import Prelude hiding (lookup)\n",
    "import Encode.Arabic\n",
    "\n",
    "import Elixir.Version\n",
    "\n",
    "version"
   ]
  },
  {
   "cell_type": "code",
   "execution_count": 3,
   "metadata": {
    "collapsed": false
   },
   "outputs": [
    {
     "data": {
      "text/plain": [
       "ElixirFM (C) 2016-2005 Otakar Smrz and Viktor Bielicky\n",
       "             2004 Markus Forsberg, 2002 Tim Buckwalter\n",
       "GNU General Public License http://www.gnu.org/licenses/\n",
       "\n",
       "ElixirFM 1.2.2 June 2016"
      ]
     },
     "metadata": {},
     "output_type": "display_data"
    }
   ],
   "source": [
    ":! elixir version"
   ]
  },
  {
   "cell_type": "markdown",
   "metadata": {},
   "source": [
    "## Merge"
   ]
  },
  {
   "cell_type": "code",
   "execution_count": 4,
   "metadata": {
    "collapsed": false
   },
   "outputs": [
    {
     "data": {
      "text/plain": [
       "\"al-kitAbu\""
      ]
     },
     "metadata": {},
     "output_type": "display_data"
    }
   ],
   "source": [
    "\"k t b\" `merge` al >| FiCAL |<< \"u\""
   ]
  },
  {
   "cell_type": "code",
   "execution_count": 5,
   "metadata": {
    "collapsed": false
   },
   "outputs": [
    {
     "data": {
      "text/plain": [
       "\"ad-dirAsaTi\""
      ]
     },
     "metadata": {},
     "output_type": "display_data"
    }
   ],
   "source": [
    "merge \"d r s\" (al >| FiCAL |< aT |<< \"i\")"
   ]
  },
  {
   "cell_type": "markdown",
   "metadata": {},
   "source": [
    "## Inflect"
   ]
  },
  {
   "cell_type": "code",
   "execution_count": 6,
   "metadata": {
    "collapsed": false
   },
   "outputs": [
    {
     "data": {
      "text/plain": [
       "Entry {morphs = FaCaL, entity = Verb [I] [] [FCuL] [] [] Nothing Nothing, limits = (TagsVerb [],[]), reflex = [\"...\"]}"
      ]
     },
     "metadata": {},
     "output_type": "display_data"
    }
   ],
   "source": [
    "FaCaL `verb` [\"...\"] `imperf` FCuL"
   ]
  },
  {
   "cell_type": "code",
   "execution_count": 7,
   "metadata": {
    "collapsed": false
   },
   "outputs": [
    {
     "data": {
      "text/plain": [
       "VP-A-3MS--\tFaCaLa\t\"\"\tFaCaL |<< \"a\"\n",
       "VIIA-3MS--\tyaFCuLu\t\"\"\t\"ya\" >>| FCuL |<< \"u\"\n",
       "VISA-3MS--\tyaFCuLa\t\"\"\t\"ya\" >>| FCuL |<< \"a\"\n",
       "VIJA-3MS--\tyaFCuL\t\"\"\t\"ya\" >>| FCuL |<< \"\"\n",
       "VIEA-3MS--\tyaFCuLanna\t\"\"\t\"ya\" >>| FCuL |<< \"anna\"\n",
       "VCJ---MS--\tuFCuL\t\"\"\t\"u\" >>| FCuL |<< \"\"\n",
       "VCE---MS--\tuFCuLanna\t\"\"\t\"u\" >>| FCuL |<< \"anna\""
      ]
     },
     "metadata": {},
     "output_type": "display_data"
    }
   ],
   "source": [
    "pretty $ inflect (FaCaL `verb` [\"...\"] `imperf` FCuL) \"V--A-3MS--\""
   ]
  },
  {
   "cell_type": "code",
   "execution_count": 8,
   "metadata": {
    "collapsed": false
   },
   "outputs": [
    {
     "data": {
      "text/plain": [
       "VP-A-3MS--\twalY\t\"w l y\"\tFaCY |<< \"a\"\n",
       "VIIA-3MS--\tyalI\t\"w l y\"\t\"ya\" >>| CI |<< \"u\"\n",
       "VISA-3MS--\tyaliya\t\"w l y\"\t\"ya\" >>| CI |<< \"a\"\n",
       "VIJA-3MS--\tyali\t\"w l y\"\t\"ya\" >>| CI |<< \"\"\n",
       "VIEA-3MS--\tyaliyanna\t\"w l y\"\t\"ya\" >>| CI |<< \"anna\"\n",
       "VCJ---MS--\tli\t\"w l y\"\t\"\" >>| CI |<< \"\"\n",
       "VCE---MS--\tliyanna\t\"w l y\"\t\"\" >>| CI |<< \"anna\""
      ]
     },
     "metadata": {},
     "output_type": "display_data"
    }
   ],
   "source": [
    "pretty $ inflect (\"w l y\" >|< FaCY `verb` [\"...\"] `imperf` CI) \"V--A-3MS--\""
   ]
  },
  {
   "cell_type": "markdown",
   "metadata": {},
   "source": [
    "## Resolve"
   ]
  },
  {
   "cell_type": "code",
   "execution_count": 9,
   "metadata": {
    "collapsed": false
   },
   "outputs": [
    {
     "data": {
      "text/plain": [
       "iqra'\tiqra'\tVCJ---MS--\tiqra'\t\"i\" >>| FCaL |<< \"\"\t\"q r '\"\tFaCaL\tqara'\t(1224,1)\t[\"read\"]\n",
       "     \tiqra'I\tVCJ---FS--\tiqra'I\t\"i\" >>| FCaL |<< \"I\"\t\"q r '\"\tFaCaL\tqara'\t(1224,1)\t[\"read\"]\n",
       "     \tiqra'A\tVCJ---MD--\tiqra'A\t\"i\" >>| FCaL |<< \"A\"\t\"q r '\"\tFaCaL\tqara'\t(1224,1)\t[\"read\"]\n",
       "     \tiqra'A\tVCJ---FD--\tiqra'A\t\"i\" >>| FCaL |<< \"A\"\t\"q r '\"\tFaCaL\tqara'\t(1224,1)\t[\"read\"]\n",
       "     \tiqra'UW\tVCJ---MP--\tiqra'UW\t\"i\" >>| FCaL |<< \"UW\"\t\"q r '\"\tFaCaL\tqara'\t(1224,1)\t[\"read\"]"
      ]
     },
     "metadata": {},
     "output_type": "display_data"
    }
   ],
   "source": [
    "pretty $ resolve \"iqra'\""
   ]
  },
  {
   "cell_type": "code",
   "execution_count": 10,
   "metadata": {
    "collapsed": false,
    "encoding": "utf-8"
   },
   "outputs": [
    {
     "data": {
      "text/plain": [
       "Ø§ÙÙØ±ÙØ£\tiqra'\tVCJ---MS--\tiqra'\t\"i\" >>| FCaL |<< \"\"\t\"q r '\"\tFaCaL\tqara'\t(1224,1)\t[\"read\"]\n",
       "      \tiqra'A\tVCJ---MD--\tiqra'A\t\"i\" >>| FCaL |<< \"A\"\t\"q r '\"\tFaCaL\tqara'\t(1224,1)\t[\"read\"]\n",
       "      \tiqra'A\tVCJ---FD--\tiqra'A\t\"i\" >>| FCaL |<< \"A\"\t\"q r '\"\tFaCaL\tqara'\t(1224,1)\t[\"read\"]"
      ]
     },
     "metadata": {},
     "output_type": "display_data"
    }
   ],
   "source": [
    "pretty $ resolve (decode TeX \"iqra'\")"
   ]
  },
  {
   "cell_type": "code",
   "execution_count": 11,
   "metadata": {
    "collapsed": false
   },
   "outputs": [
    {
     "data": {
      "text/plain": [
       "\"\\1575\\1616\\1602\\1585\\1614\\1571\""
      ]
     },
     "metadata": {},
     "output_type": "display_data"
    }
   ],
   "source": [
    "encode UCS $ decode TeX \"iqra'\""
   ]
  },
  {
   "cell_type": "code",
   "execution_count": 12,
   "metadata": {
    "collapsed": false
   },
   "outputs": [
    {
     "data": {
      "text/plain": [
       "\"OahlFA wasahlFA\""
      ]
     },
     "metadata": {},
     "output_type": "display_data"
    }
   ],
   "source": [
    "encode Tim $ decode TeX \"'ahlaN wa-sahlaN\""
   ]
  },
  {
   "cell_type": "markdown",
   "metadata": {},
   "source": [
    "## Lookup"
   ]
  },
  {
   "cell_type": "code",
   "execution_count": 13,
   "metadata": {
    "collapsed": false
   },
   "outputs": [
    {
     "data": {
      "text/plain": [
       "(26,[1])\t(26,1)\tSP--------\thuwa\t\"\"\t\"huwa\"\t[\"he\",\"she\",\"it\"]\t[]\n",
       "        \t      \tSP---1-[DP][24]-\tnA\t\"\"\t\"nA\"\n",
       "        \t      \tSP---1-[DP]1-\tna.hnu\t\"\"\t\"na.hnu\"\n",
       "        \t      \tSP---1-S[42]-\tnI\t\"\"\t\"nI\"\n",
       "        \t      \tSP---1-S2-\tya\t\"\"\t\"ya\"\n",
       "        \t      \t          \t|I\t\"\"\t\"|I\"\n",
       "        \t      \tSP---1-S1-\t'anA\t\"\"\t\"'anA\"\n",
       "        \t      \tSP---2FP[24]-\tkunna\t\"\"\t\"kunna\"\n",
       "        \t      \tSP---2FP1-\t'antunna\t\"\"\t\"'antunna\"\n",
       "        \t      \tSP---2MP[24]-\tkum\t\"\"\t\"kum\"\n",
       "        \t      \tSP---2MP1-\t'antum\t\"\"\t\"'antum\"\n",
       "        \t      \tSP---2-D[24]-\tkumA\t\"\"\t\"kumA\"\n",
       "        \t      \tSP---2-D1-\t'antumA\t\"\"\t\"'antumA\"\n",
       "        \t      \tSP---2FS[24]-\tki\t\"\"\t\"ki\"\n",
       "        \t      \tSP---2FS1-\t'anti\t\"\"\t\"'anti\"\n",
       "        \t      \tSP---2MS[24]-\tka\t\"\"\t\"ka\"\n",
       "        \t      \tSP---2MS1-\t'anta\t\"\"\t\"'anta\"\n",
       "        \t      \tSP---3FP[24]-\thinna\t\"\"\t\"hinna\"\n",
       "        \t      \tSP---3FP--\thunna\t\"\"\t\"hunna\"\n",
       "        \t      \tSP---3MP[24]-\thim\t\"\"\t\"him\"\n",
       "        \t      \tSP---3MP--\thum\t\"\"\t\"hum\"\n",
       "        \t      \tSP---3-D[24]-\thimA\t\"\"\t\"himA\"\n",
       "        \t      \tSP---3-D--\thumA\t\"\"\t\"humA\"\n",
       "        \t      \tSP---3FS[24]-\thA\t\"\"\t\"hA\"\n",
       "        \t      \tSP---3FS1-\thiya\t\"\"\t\"hiya\"\n",
       "        \t      \tSP---3MS[24]-\thi\t\"\"\t\"hi\"\n",
       "        \t      \t             \thu\t\"\"\t\"hu\"\n",
       "(35,[1])\t(35,1)\tSD-----D--\tkilA\t\"k l\"\t\"kil\" |<< \"A\"\t[\"both of\",\"both of them\"]\t[]\n",
       "        \t      \tSD----FD[24]-\tkiltA\t\"k l\"\t\"kil\" |<< \"t\" |<< \"A\"\n",
       "        \t      \t             \tkiltay\t\"k l\"\t\"kil\" |<< \"t\" |<< \"ay\"\n",
       "        \t      \tSD----FD1-\tkiltA\t\"k l\"\t\"kil\" |<< \"t\" |<< \"A\"\n",
       "        \t      \tSD----MD[24]-\tkilA\t\"k l\"\t\"kil\" |<< \"A\"\n",
       "        \t      \t             \tkilay\t\"k l\"\t\"kil\" |<< \"ay\"\n",
       "(36,[1,2])\t(36,1)\tSD--------\t_d_alika\t\"k\"\t\"_d_a\" |<< \"li\" |<< \"ka\"\t[\"that\",\"those\"]\t[]\n",
       "          \t      \tSD-----P--\t'_Ul_a'ika\t\"k\"\t\"'_Ul_a'i\" |<< \"ka\"\n",
       "          \t      \t          \t'_UlA'ika\t\"k\"\t\"'_UlA'i\" |<< \"ka\"\n",
       "          \t      \tSD----FD[24]-\ttaynika\t\"k\"\t\"t\" |<< \"ayni\" |<< \"ka\"\n",
       "          \t      \tSD----FD1-\ttAnika\t\"k\"\t\"t\" |<< \"Ani\" |<< \"ka\"\n",
       "          \t      \tSD----MD[24]-\t_daynika\t\"k\"\t\"_d\" |<< \"ayni\" |<< \"ka\"\n",
       "          \t      \tSD----MD1-\t_dAnika\t\"k\"\t\"_d\" |<< \"Ani\" |<< \"ka\"\n",
       "          \t      \tSD----FS--\ttilka\t\"k\"\t\"t\" |<< \"il\" |<< \"ka\"\n",
       "          \t(36,2)\tSD-----S--\t_dAka\t\"k\"\t\"_dA\" |<< \"ka\"\t[\"that\"]\t[]\n",
       "          \t      \tSD----FS--\ttIka\t\"k\"\t\"tI\" |<< \"ka\"\n",
       "          \t      \t          \ttAka\t\"k\"\t\"tA\" |<< \"ka\"\n",
       "(37,[1])\t(37,1)\tSD--------\th_a_dA\t\"h\"\t\"h_a\" >>| \"_dA\"\t[\"this\",\"these\"]\t[]\n",
       "        \t      \tSD-----P--\th_a'ulA'i\t\"h\"\t\"h_a\" >>| \"'ulA'i\"\n",
       "        \t      \tSD----FD[24]-\thAtayni\t\"h\"\t\"hA\" >>| \"t\" |<< \"ayni\"\n",
       "        \t      \tSD----FD1-\thAtAni\t\"h\"\t\"hA\" >>| \"t\" |<< \"Ani\"\n",
       "        \t      \tSD----MD[24]-\th_a_dayni\t\"h\"\t\"h_a\" >>| \"_d\" |<< \"ayni\"\n",
       "        \t      \tSD----MD1-\th_a_dAni\t\"h\"\t\"h_a\" >>| \"_d\" |<< \"Ani\"\n",
       "        \t      \tSD----FS--\th_a_dI\t\"h\"\t\"h_a\" >>| \"_dI\"\n",
       "        \t      \t          \th_a_dihi\t\"h\"\t\"h_a\" >>| \"_d\" |<< \"ihi\"\n",
       "(38,[1])\t(38,1)\tSR--------\talla_dI\t\"l\"\t\"al\" >>| \"la_dI\"\t[\"that\",\"which\"]\t[]\n",
       "        \t      \tSR----FP--\tal-lA'I\t\"l\"\tal >| \"lA'I\"\n",
       "        \t      \t          \tal-lawAtI\t\"l\"\tal >| \"lawAtI\"\n",
       "        \t      \t          \tal-lAtI\t\"l\"\tal >| \"lAtI\"\n",
       "        \t      \tSR----MP--\talla_dIna\t\"l\"\t\"al\" >>| \"la_dIna\"\n",
       "        \t      \tSR----FD[24]-\tal-latayni\t\"l\"\tal >| \"lat\" |<< \"ayni\"\n",
       "        \t      \tSR----FD1-\tal-latAni\t\"l\"\tal >| \"lat\" |<< \"Ani\"\n",
       "        \t      \tSR----MD[24]-\tal-la_dayni\t\"l\"\tal >| \"la_d\" |<< \"ayni\"\n",
       "        \t      \tSR----MD1-\tal-la_dAni\t\"l\"\tal >| \"la_d\" |<< \"Ani\"\n",
       "        \t      \tSR----FS--\tallatI\t\"l\"\t\"al\" >>| \"latI\"\n",
       "(39,[1,2])\t(39,1)\tSD-----P--\t'_UlU\t\"l\"\t\"'_Ul\" |<< \"U\"\t[\"the one of\",\"the one with\"]\t[]\n",
       "          \t      \tSD----FP[24]-\t'_UlAti\t\"l\"\t\"'_Ul\" |< At |<< \"i\"\n",
       "          \t      \tSD----FP1-\t'_UlAtu\t\"l\"\t\"'_Ul\" |< At |<< \"u\"\n",
       "          \t      \tSD----MP[24]-\t'_UlI\t\"l\"\t\"'_Ul\" |<< \"I\"\n",
       "          \t(39,2)\tSD-----P--\t'_UlA'i\t\"l\"\t\"'_UlA'i\"\t[\"these\"]\t[]\n",
       "(40,[1,2])\t(40,1)\tSD--------\t_dU\t\"_d\"\t\"FU\" |<< \"u\"\t[\"the one of\",\"the one with\"]\t[]\n",
       "          \t      \tSD----FP[24]-\t_dawAti\t\"_d\"\t\"FA\" |< At |<< \"i\"\n",
       "          \t      \tSD----FP1-\t_dawAtu\t\"_d\"\t\"FA\" |< At |<< \"u\"\n",
       "          \t      \tSD----FD[24]-\t_dawAtay\t\"_d\"\t\"FA\" |< At |<< \"ay\"\n",
       "          \t      \t             \t_dAtay\t\"_d\"\t\"FA\" |<< \"t\" |<< \"ay\"\n",
       "          \t      \tSD----FD1-\t_dawAtA\t\"_d\"\t\"FA\" |< At |<< \"A\"\n",
       "          \t      \t          \t_dAtA\t\"_d\"\t\"FA\" |<< \"t\" |<< \"A\"\n",
       "          \t      \tSD----FS4-\t_dAta\t\"_d\"\t\"FA\" |<< \"t\" |<< \"a\"\n",
       "          \t      \tSD----FS2-\t_dAti\t\"_d\"\t\"FA\" |<< \"t\" |<< \"i\"\n",
       "          \t      \tSD----FS1-\t_dAtu\t\"_d\"\t\"FA\" |<< \"t\" |<< \"u\"\n",
       "          \t      \tSD----MP[24]-\t_dawI\t\"_d\"\t\"FA\" |<< \"I\"\n",
       "          \t      \tSD----MP1-\t_dawU\t\"_d\"\t\"FA\" |<< \"U\"\n",
       "          \t      \tSD----MD[24]-\t_daway\t\"_d\"\t\"FA\" |<< \"ay\"\n",
       "          \t      \tSD----MD1-\t_dawA\t\"_d\"\t\"FA\" |<< \"A\"\n",
       "          \t      \tSD----MS4-\t_dA\t\"_d\"\t\"FA\" |<< \"a\"\n",
       "          \t      \tSD----MS2-\t_dI\t\"_d\"\t\"FI\" |<< \"i\"\n",
       "          \t(40,2)\tSD-----S--\t_dA\t\"_d\"\t\"FA\"\t[\"this\"]\t[]\n",
       "          \t      \tSD----FS--\t_dI\t\"_d\"\t\"FI\"\n",
       "(572,[1])\t(572,1)\tS---------\t'ayna\t\"'ayn\"\t_____ |<< \"a\"\t[\"where\"]\t[]\n",
       "(1367,[1])\t(1367,1)\tS---------\tkam\t\"k m m\"\tFaC\t[\"how many / much\"]\t[]\n",
       "(1412,[6])\t(1412,6)\tS---------\tkayfa\t\"k y f\"\tFaCL |<< \"a\"\t[\"how\"]\t[]\n",
       "(1429,[1])\t(1429,1)\tS---------\tmatY\t\"m t y\"\tFaCY\t[\"when\"]\t[]\n",
       "(5130,[5,7])\t(5130,5)\tS---------\tka_dA\t\"ka\"\t_____ |<< \"_dA\"\t[\"such\",\"as such\"]\t[]\n",
       "            \t(5130,7)\tS---------\th_aka_dA\t\"ka\"\t\"h_a\" >>| _____ |<< \"_dA\"\t[\"such\",\"as such\"]\t[]\n",
       "(5446,[1,2,3])\t(5446,1)\tS---------\tmA\t\"mA\"\t_____\t[\"what\",\"which\"]\t[]\n",
       "              \t(5446,2)\tS---------\tmA\t\"mA\"\t_____\t[\"whichever\",\"- ever\"]\t[]\n",
       "              \t(5446,3)\tS---------\tmA_dA\t\"mA\"\t_____ |<< \"_dA\"\t[\"what\"]\t[]\n",
       "(5693,[1])\t(5693,1)\tS---------\tman\t\"man\"\t_____\t[\"who\"]\t[]\n",
       "(8757,[5,6,7])\t(8757,5)\tS---------\tlimA_dA\t\"li\"\t_____ |<< \"mA_dA\"\t[\"why\"]\t[]\n",
       "              \t(8757,6)\tS---------\tlimA\t\"li\"\t_____ |<< \"mA\"\t[\"why\"]\t[]\n",
       "              \t(8757,7)\tS---------\tlima\t\"li\"\t_____ |<< \"ma\"\t[\"why\"]\t[]"
      ]
     },
     "metadata": {},
     "output_type": "display_data"
    }
   ],
   "source": [
    "pretty $ lookup $ convert \"S---------\""
   ]
  },
  {
   "cell_type": "code",
   "execution_count": 14,
   "metadata": {
    "collapsed": false
   },
   "outputs": [
    {
     "data": {
      "text/plain": [
       "[(26,[1]),(35,[1]),(36,[1,2]),(37,[1]),(38,[1]),(39,[1,2]),(40,[1,2]),(572,[1]),(1367,[1]),(1412,[6]),(1429,[1]),(5130,[5,7]),(5446,[1,2,3]),(5693,[1]),(8757,[5,6,7])]"
      ]
     },
     "metadata": {},
     "output_type": "display_data"
    }
   ],
   "source": [
    "lookup (convert \"S---------\")"
   ]
  },
  {
   "cell_type": "code",
   "execution_count": 15,
   "metadata": {
    "collapsed": false
   },
   "outputs": [
    {
     "data": {
      "text/plain": [
       "(12,[1,2,3,4])\t(12,1)\tQX--------\t`a^saraT\t\"` ^s r\"\tFaCaL |< aT\t[\"ten\"]\t[]\n",
       "              \t      \t------F---\t`a^sr\t\"` ^s r\"\tFaCL\n",
       "              \t(12,2)\tQM-----[SP]--\t`a^saraT\t\"` ^s r\"\tFaCaL |< aT\t[\"ten\",\"score\",\"dozen\"]\t[]\n",
       "              \t      \t-------P--\t`a^sarAt\t\"` ^s r\"\tFaCaL |< At\n",
       "              \t(12,3)\tQY--------\t`a^sar\t\"` ^s r\"\tFaCaL\t[\"- teen\"]\t[]\n",
       "              \t      \t------F---\t`a^sraT\t\"` ^s r\"\tFaCL |< aT\n",
       "              \t(12,4)\tQL--------\t`i^srUn\t\"` ^s r\"\tFiCL |< Un\t[\"twenty\"]\t[]"
      ]
     },
     "metadata": {},
     "output_type": "display_data"
    }
   ],
   "source": [
    "pretty $ lookup (convert \"Q---------\") `with` \"` ^s r\""
   ]
  },
  {
   "cell_type": "code",
   "execution_count": 16,
   "metadata": {
    "collapsed": false
   },
   "outputs": [
    {
     "data": {
      "text/plain": [
       "[\"ten\"]"
      ]
     },
     "metadata": {},
     "output_type": "display_data"
    },
    {
     "data": {
      "text/plain": [
       "[\"ten\",\"thousand\"]"
      ]
     },
     "metadata": {},
     "output_type": "display_data"
    },
    {
     "data": {
      "text/html": [
       "<style>/* Styles used for the Hoogle display in the pager */\n",
       ".hoogle-doc {\n",
       "display: block;\n",
       "padding-bottom: 1.3em;\n",
       "padding-left: 0.4em;\n",
       "}\n",
       ".hoogle-code {\n",
       "display: block;\n",
       "font-family: monospace;\n",
       "white-space: pre;\n",
       "}\n",
       ".hoogle-text {\n",
       "display: block;\n",
       "}\n",
       ".hoogle-name {\n",
       "color: green;\n",
       "font-weight: bold;\n",
       "}\n",
       ".hoogle-head {\n",
       "font-weight: bold;\n",
       "}\n",
       ".hoogle-sub {\n",
       "display: block;\n",
       "margin-left: 0.4em;\n",
       "}\n",
       ".hoogle-package {\n",
       "font-weight: bold;\n",
       "font-style: italic;\n",
       "}\n",
       ".hoogle-module {\n",
       "font-weight: bold;\n",
       "}\n",
       ".hoogle-class {\n",
       "font-weight: bold;\n",
       "}\n",
       ".get-type {\n",
       "color: green;\n",
       "font-weight: bold;\n",
       "font-family: monospace;\n",
       "display: block;\n",
       "white-space: pre-wrap;\n",
       "}\n",
       ".show-type {\n",
       "color: green;\n",
       "font-weight: bold;\n",
       "font-family: monospace;\n",
       "margin-left: 1em;\n",
       "}\n",
       ".mono {\n",
       "font-family: monospace;\n",
       "display: block;\n",
       "}\n",
       ".err-msg {\n",
       "color: red;\n",
       "font-style: italic;\n",
       "font-family: monospace;\n",
       "white-space: pre;\n",
       "display: block;\n",
       "}\n",
       "#unshowable {\n",
       "color: red;\n",
       "font-weight: bold;\n",
       "}\n",
       ".err-msg.in.collapse {\n",
       "padding-top: 0.7em;\n",
       "}\n",
       ".highlight-code {\n",
       "white-space: pre;\n",
       "font-family: monospace;\n",
       "}\n",
       ".suggestion-warning { \n",
       "font-weight: bold;\n",
       "color: rgb(200, 130, 0);\n",
       "}\n",
       ".suggestion-error { \n",
       "font-weight: bold;\n",
       "color: red;\n",
       "}\n",
       ".suggestion-name {\n",
       "font-weight: bold;\n",
       "}\n",
       "</style><span class='get-type'>it :: [String]</span>"
      ],
      "text/plain": [
       "it :: [String]"
      ]
     },
     "metadata": {},
     "output_type": "display_data"
    }
   ],
   "source": [
    "words \"ten\"\n",
    "words \"ten thousand\"\n",
    ":t it"
   ]
  },
  {
   "cell_type": "code",
   "execution_count": 17,
   "metadata": {
    "collapsed": false
   },
   "outputs": [
    {
     "data": {
      "text/plain": [
       "[['t','e','n']]"
      ]
     },
     "metadata": {},
     "output_type": "display_data"
    },
    {
     "data": {
      "text/plain": [
       "[['t','e','n'],['d','o','z','e','n']]"
      ]
     },
     "metadata": {},
     "output_type": "display_data"
    },
    {
     "data": {
      "text/html": [
       "<style>/* Styles used for the Hoogle display in the pager */\n",
       ".hoogle-doc {\n",
       "display: block;\n",
       "padding-bottom: 1.3em;\n",
       "padding-left: 0.4em;\n",
       "}\n",
       ".hoogle-code {\n",
       "display: block;\n",
       "font-family: monospace;\n",
       "white-space: pre;\n",
       "}\n",
       ".hoogle-text {\n",
       "display: block;\n",
       "}\n",
       ".hoogle-name {\n",
       "color: green;\n",
       "font-weight: bold;\n",
       "}\n",
       ".hoogle-head {\n",
       "font-weight: bold;\n",
       "}\n",
       ".hoogle-sub {\n",
       "display: block;\n",
       "margin-left: 0.4em;\n",
       "}\n",
       ".hoogle-package {\n",
       "font-weight: bold;\n",
       "font-style: italic;\n",
       "}\n",
       ".hoogle-module {\n",
       "font-weight: bold;\n",
       "}\n",
       ".hoogle-class {\n",
       "font-weight: bold;\n",
       "}\n",
       ".get-type {\n",
       "color: green;\n",
       "font-weight: bold;\n",
       "font-family: monospace;\n",
       "display: block;\n",
       "white-space: pre-wrap;\n",
       "}\n",
       ".show-type {\n",
       "color: green;\n",
       "font-weight: bold;\n",
       "font-family: monospace;\n",
       "margin-left: 1em;\n",
       "}\n",
       ".mono {\n",
       "font-family: monospace;\n",
       "display: block;\n",
       "}\n",
       ".err-msg {\n",
       "color: red;\n",
       "font-style: italic;\n",
       "font-family: monospace;\n",
       "white-space: pre;\n",
       "display: block;\n",
       "}\n",
       "#unshowable {\n",
       "color: red;\n",
       "font-weight: bold;\n",
       "}\n",
       ".err-msg.in.collapse {\n",
       "padding-top: 0.7em;\n",
       "}\n",
       ".highlight-code {\n",
       "white-space: pre;\n",
       "font-family: monospace;\n",
       "}\n",
       ".suggestion-warning { \n",
       "font-weight: bold;\n",
       "color: rgb(200, 130, 0);\n",
       "}\n",
       ".suggestion-error { \n",
       "font-weight: bold;\n",
       "color: red;\n",
       "}\n",
       ".suggestion-name {\n",
       "font-weight: bold;\n",
       "}\n",
       "</style><span class='get-type'>it :: [[UPoint]]</span>"
      ],
      "text/plain": [
       "it :: [[UPoint]]"
      ]
     },
     "metadata": {},
     "output_type": "display_data"
    }
   ],
   "source": [
    "sense \"ten\"\n",
    "senses [\"ten\", \"dozen\"]\n",
    ":t it"
   ]
  },
  {
   "cell_type": "code",
   "execution_count": 18,
   "metadata": {
    "collapsed": false
   },
   "outputs": [
    {
     "data": {
      "text/plain": [
       "(8,[1])\t(8,1)\tQM--------\tribwaT\t\"r b w\"\tFiCL |< aT\t[\"ten thousand\",\"myriad\"]\t[]\n",
       "       \t     \t-------P--\tribwAt\t\"r b w\"\tFiCL |< At\n",
       "(12,[1,2])\t(12,1)\tQX--------\t`a^saraT\t\"` ^s r\"\tFaCaL |< aT\t[\"ten\"]\t[]\n",
       "          \t      \t------F---\t`a^sr\t\"` ^s r\"\tFaCL\n",
       "          \t(12,2)\tQM-----[SP]--\t`a^saraT\t\"` ^s r\"\tFaCaL |< aT\t[\"ten\",\"score\",\"dozen\"]\t[]\n",
       "          \t      \t-------P--\t`a^sarAt\t\"` ^s r\"\tFaCaL |< At"
      ]
     },
     "metadata": {},
     "output_type": "display_data"
    }
   ],
   "source": [
    "pretty $ lookup (convert \"Q---------\") `with` words \"ten\""
   ]
  },
  {
   "cell_type": "code",
   "execution_count": 19,
   "metadata": {
    "collapsed": false
   },
   "outputs": [
    {
     "data": {
      "text/plain": [
       "(8,[1])\t(8,1)\tQM--------\tribwaT\t\"r b w\"\tFiCL |< aT\t[\"ten thousand\",\"myriad\"]\t[]\n",
       "       \t     \t-------P--\tribwAt\t\"r b w\"\tFiCL |< At"
      ]
     },
     "metadata": {},
     "output_type": "display_data"
    }
   ],
   "source": [
    "pretty $ lookup (convert \"Q---------\") `with` [\"ten thousand\"]"
   ]
  },
  {
   "cell_type": "code",
   "execution_count": 20,
   "metadata": {
    "collapsed": false,
    "scrolled": true
   },
   "outputs": [
    {
     "data": {
      "text/plain": [
       "(5156,[36])\t(5156,36)\tN---------\tkuttAb\t\"k t b\"\tFuCCAL\t[\"kuttab ( village school )\",\"Quran school\"]\t[]\n",
       "           \t         \t-------P--\tkatAtIb\t\"k t b\"\tFaCACIL"
      ]
     },
     "metadata": {},
     "output_type": "display_data"
    }
   ],
   "source": [
    "pretty $ lookup (convert \"N---------\") `with` words \"village kuttab\""
   ]
  },
  {
   "cell_type": "code",
   "execution_count": 21,
   "metadata": {
    "collapsed": false
   },
   "outputs": [
    {
     "data": {
      "text/plain": [
       "(12,[1,2])\t(12,1)\tQX--------\t`a^saraT\t\"` ^s r\"\tFaCaL |< aT\t[\"ten\"]\t[]\n",
       "          \t      \t------F---\t`a^sr\t\"` ^s r\"\tFaCL\n",
       "          \t(12,2)\tQM-----[SP]--\t`a^saraT\t\"` ^s r\"\tFaCaL |< aT\t[\"ten\",\"score\",\"dozen\"]\t[]\n",
       "          \t      \t-------P--\t`a^sarAt\t\"` ^s r\"\tFaCaL |< At"
      ]
     },
     "metadata": {},
     "output_type": "display_data"
    }
   ],
   "source": [
    "pretty $ lookup (convert \"Q---------\") `with` sense \"ten\""
   ]
  },
  {
   "cell_type": "code",
   "execution_count": 22,
   "metadata": {
    "collapsed": false
   },
   "outputs": [
    {
     "data": {
      "text/plain": [
       "(12,[2])\t(12,2)\tQM-----[SP]--\t`a^saraT\t\"` ^s r\"\tFaCaL |< aT\t[\"ten\",\"score\",\"dozen\"]\t[]\n",
       "        \t      \t-------P--\t`a^sarAt\t\"` ^s r\"\tFaCaL |< At"
      ]
     },
     "metadata": {},
     "output_type": "display_data"
    }
   ],
   "source": [
    "pretty $ lookup (convert \"Q---------\") `with` senses [\"ten\", \"dozen\"]"
   ]
  },
  {
   "cell_type": "code",
   "execution_count": 23,
   "metadata": {
    "collapsed": false
   },
   "outputs": [
    {
     "data": {
      "text/plain": [
       "(5156,[36])\t(5156,36)\tN---------\tkuttAb\t\"k t b\"\tFuCCAL\t[\"kuttab ( village school )\",\"Quran school\"]\t[]\n",
       "           \t         \t-------P--\tkatAtIb\t\"k t b\"\tFaCACIL"
      ]
     },
     "metadata": {},
     "output_type": "display_data"
    }
   ],
   "source": [
    "pretty $ lookup (convert \"N---------\") `with` senses [\"Quran school\", \"kuttab ( village school )\"]"
   ]
  }
 ],
 "metadata": {
  "kernelspec": {
   "display_name": "Haskell",
   "language": "haskell",
   "name": "haskell"
  },
  "language_info": {
   "codemirror_mode": "ihaskell",
   "file_extension": ".hs",
   "name": "haskell",
   "version": "7.10.3"
  }
 },
 "nbformat": 4,
 "nbformat_minor": 0
}
