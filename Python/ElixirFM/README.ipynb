{
 "cells": [
  {
   "cell_type": "code",
   "execution_count": 1,
   "metadata": {
    "collapsed": true
   },
   "outputs": [],
   "source": [
    "import ElixirFM as elixir"
   ]
  },
  {
   "cell_type": "code",
   "execution_count": 2,
   "metadata": {
    "collapsed": false
   },
   "outputs": [
    {
     "data": {
      "text/plain": [
       "'car\\t(4414,[26])\\t(4414,26)\\tN---------\\t`arba_hAnaT\\t\"` r b\"\\tFaCL |<< \"a\" |<< \"_hAn\" |< aT\\t[\"car shed\",\"coach house\"]\\t[]\\n   \\t(6284,[28])\\t(6284,28)\\tN---------\\tsayyAraT\\t\"s y r\"\\tFaCCAL |< aT\\t[\"car\",\"automobile\",\"vehicle\"]\\t[]\\n   \\t           \\t         \\t-------P--\\tsayyArAt\\t\"s y r\"\\tFaCCAL |< At\\n   \\t(8011,[1])\\t(8011,1)\\tN---------\\tsibinsaT\\t\"sibins\"\\t_____ |< aT\\t[\"caboose\",\"baggage car\"]\\t[]\\n   \\t(8325,[22])\\t(8325,22)\\tN---------\\t^sA.hinaT\\t\"^s .h n\"\\tFACiL |< aT\\t[\"truck\",\"lorry\",\"freight car\"]\\t[I]\\n   \\t           \\t         \\t-------P--\\t^sA.hinAt\\t\"^s .h n\"\\tFACiL |< At\\n\\n'"
      ]
     },
     "execution_count": 2,
     "metadata": {},
     "output_type": "execute_result"
    }
   ],
   "source": [
    "elixir.lookup(\"car\")"
   ]
  },
  {
   "cell_type": "code",
   "execution_count": 3,
   "metadata": {
    "collapsed": false
   },
   "outputs": [
    {
     "data": {
      "text/plain": [
       "[[['car',\n",
       "   ['(4414,[26])',\n",
       "    ['(4414,26)',\n",
       "     ['N---------',\n",
       "      ['`arba_hAnaT',\n",
       "       ['\"` r b\"',\n",
       "        ['FaCL |<< \"a\" |<< \"_hAn\" |< aT',\n",
       "         ['[\"car shed\",\"coach house\"]', ['[]']]]]]]]],\n",
       "   ['(6284,[28])',\n",
       "    ['(6284,28)',\n",
       "     ['N---------',\n",
       "      ['sayyAraT',\n",
       "       ['\"s y r\"',\n",
       "        ['FaCCAL |< aT', ['[\"car\",\"automobile\",\"vehicle\"]', ['[]']]]]]],\n",
       "     ['-------P--', ['sayyArAt', ['\"s y r\"', ['FaCCAL |< At']]]]]],\n",
       "   ['(8011,[1])',\n",
       "    ['(8011,1)',\n",
       "     ['N---------',\n",
       "      ['sibinsaT',\n",
       "       ['\"sibins\"',\n",
       "        ['_____ |< aT', ['[\"caboose\",\"baggage car\"]', ['[]']]]]]]]],\n",
       "   ['(8325,[22])',\n",
       "    ['(8325,22)',\n",
       "     ['N---------',\n",
       "      ['^sA.hinaT',\n",
       "       ['\"^s .h n\"',\n",
       "        ['FACiL |< aT', ['[\"truck\",\"lorry\",\"freight car\"]', ['[I]']]]]]],\n",
       "     ['-------P--', ['^sA.hinAt', ['\"^s .h n\"', ['FACiL |< At']]]]]]]]]"
      ]
     },
     "execution_count": 3,
     "metadata": {},
     "output_type": "execute_result"
    }
   ],
   "source": [
    "lookup = elixir.lookup(\"car\")\n",
    "elixir.unpretty(lookup)"
   ]
  },
  {
   "cell_type": "code",
   "execution_count": 4,
   "metadata": {
    "collapsed": false
   },
   "outputs": [
    {
     "data": {
      "text/plain": [
       "[[['car',\n",
       "   ['(4414,[26])',\n",
       "    ['(4414,26)',\n",
       "     ['N---------',\n",
       "      ['`arba_hAnaT',\n",
       "       '\"` r b\"',\n",
       "       'FaCL |<< \"a\" |<< \"_hAn\" |< aT',\n",
       "       '[\"car shed\",\"coach house\"]',\n",
       "       '[]']]]],\n",
       "   ['(6284,[28])',\n",
       "    ['(6284,28)',\n",
       "     ['N---------',\n",
       "      ['sayyAraT',\n",
       "       '\"s y r\"',\n",
       "       'FaCCAL |< aT',\n",
       "       '[\"car\",\"automobile\",\"vehicle\"]',\n",
       "       '[]']],\n",
       "     ['-------P--', ['sayyArAt', '\"s y r\"', 'FaCCAL |< At']]]],\n",
       "   ['(8011,[1])',\n",
       "    ['(8011,1)',\n",
       "     ['N---------',\n",
       "      ['sibinsaT',\n",
       "       '\"sibins\"',\n",
       "       '_____ |< aT',\n",
       "       '[\"caboose\",\"baggage car\"]',\n",
       "       '[]']]]],\n",
       "   ['(8325,[22])',\n",
       "    ['(8325,22)',\n",
       "     ['N---------',\n",
       "      ['^sA.hinaT',\n",
       "       '\"^s .h n\"',\n",
       "       'FACiL |< aT',\n",
       "       '[\"truck\",\"lorry\",\"freight car\"]',\n",
       "       '[I]']],\n",
       "     ['-------P--', ['^sA.hinAt', '\"^s .h n\"', 'FACiL |< At']]]]]]]"
      ]
     },
     "execution_count": 4,
     "metadata": {},
     "output_type": "execute_result"
    }
   ],
   "source": [
    "elixir.unpretty(lookup, 'lookup')"
   ]
  },
  {
   "cell_type": "code",
   "execution_count": 5,
   "metadata": {
    "collapsed": false
   },
   "outputs": [
    {
     "data": {
      "text/plain": [
       "[[[u'\\u0621',\n",
       "   [u'(48,[])',\n",
       "    [u'(48,1)',\n",
       "     [u'F---------',\n",
       "      [u\"'a\", u'\"\\'a\"', u'_____', u'[\"whether\",\"indeed\"]', u'[]']]]],\n",
       "   [u'(1907,[])',\n",
       "    [u'(1907,1)',\n",
       "     [u'Y---------', [u\"'i\", u'\"\\'i\"', u'_____', u'[\"I\"]', u'[]']]]],\n",
       "   [u'(1908,[])',\n",
       "    [u'(1908,1)',\n",
       "     [u'Y---------', [u\"'a\", u'\"\\'a\"', u'_____', u'[\"A\",\"1st\"]', u'[]']]]]]]]"
      ]
     },
     "execution_count": 5,
     "metadata": {},
     "output_type": "execute_result"
    }
   ],
   "source": [
    "coding = elixir.lookup(u\"\\u0621\")\n",
    "elixir.unpretty(coding, 'lookup')"
   ]
  },
  {
   "cell_type": "code",
   "execution_count": 6,
   "metadata": {
    "collapsed": false
   },
   "outputs": [
    {
     "data": {
      "text/plain": [
       "[[['\\xd8\\xa1',\n",
       "   ['(48,[])',\n",
       "    ['(48,1)',\n",
       "     ['F---------', [\"'a\", '\"\\'a\"', '_____', '[\"whether\",\"indeed\"]', '[]']]]],\n",
       "   ['(1907,[])',\n",
       "    ['(1907,1)', ['Y---------', [\"'i\", '\"\\'i\"', '_____', '[\"I\"]', '[]']]]],\n",
       "   ['(1908,[])',\n",
       "    ['(1908,1)',\n",
       "     ['Y---------', [\"'a\", '\"\\'a\"', '_____', '[\"A\",\"1st\"]', '[]']]]]]]]"
      ]
     },
     "execution_count": 6,
     "metadata": {},
     "output_type": "execute_result"
    }
   ],
   "source": [
    "coding = elixir.lookup(u\"\\u0621\".encode('utf-8'))\n",
    "elixir.unpretty(coding, 'lookup')"
   ]
  },
  {
   "cell_type": "code",
   "execution_count": 7,
   "metadata": {
    "collapsed": false
   },
   "outputs": [
    {
     "data": {
      "text/plain": [
       "['-------P--', ['^sA.hinAt', '\"^s .h n\"', 'FACiL |< At']]"
      ]
     },
     "execution_count": 7,
     "metadata": {},
     "output_type": "execute_result"
    }
   ],
   "source": [
    "elixir.unpretty(lookup, 'lookup')[0][0][4][1][2]"
   ]
  },
  {
   "cell_type": "code",
   "execution_count": 8,
   "metadata": {
    "collapsed": false
   },
   "outputs": [
    {
     "data": {
      "text/plain": [
       "'^sA.hinAt'"
      ]
     },
     "execution_count": 8,
     "metadata": {},
     "output_type": "execute_result"
    }
   ],
   "source": [
    "elixir.unpretty(lookup, 'lookup')[0][0][4][1][2][1][0]"
   ]
  },
  {
   "cell_type": "code",
   "execution_count": 9,
   "metadata": {
    "collapsed": true
   },
   "outputs": [],
   "source": [
    "word = elixir.unpretty(lookup, 'lookup')[0][0][4][1][2][1][0]"
   ]
  },
  {
   "cell_type": "code",
   "execution_count": 10,
   "metadata": {
    "collapsed": false
   },
   "outputs": [],
   "source": [
    "import Encode.Arabic"
   ]
  },
  {
   "cell_type": "code",
   "execution_count": 11,
   "metadata": {
    "collapsed": false
   },
   "outputs": [
    {
     "data": {
      "text/plain": [
       "u'\\u0634\\u064e\\u0627\\u062d\\u0650\\u0646\\u064e\\u0627\\u062a'"
      ]
     },
     "execution_count": 11,
     "metadata": {},
     "output_type": "execute_result"
    }
   ],
   "source": [
    "word.decode(\"tex\")"
   ]
  },
  {
   "cell_type": "code",
   "execution_count": 12,
   "metadata": {
    "collapsed": false,
    "slideshow": {
     "slide_type": "-"
    }
   },
   "outputs": [
    {
     "name": "stdout",
     "output_type": "stream",
     "text": [
      "شَاحِنَات\n"
     ]
    }
   ],
   "source": [
    "print word.decode(\"tex\")"
   ]
  },
  {
   "cell_type": "code",
   "execution_count": 13,
   "metadata": {
    "collapsed": false
   },
   "outputs": [
    {
     "data": {
      "text/plain": [
       "'\\xc5\\xa1aAHinaAt'"
      ]
     },
     "execution_count": 13,
     "metadata": {},
     "output_type": "execute_result"
    }
   ],
   "source": [
    "word.decode(\"tex\").encode(\"habash\")"
   ]
  },
  {
   "cell_type": "code",
   "execution_count": 14,
   "metadata": {
    "collapsed": false
   },
   "outputs": [
    {
     "data": {
      "text/plain": [
       "u'\\u0161aAHinaAt'"
      ]
     },
     "execution_count": 14,
     "metadata": {},
     "output_type": "execute_result"
    }
   ],
   "source": [
    "word.decode(\"tex\").encode(\"habash\").decode(\"utf-8\")"
   ]
  },
  {
   "cell_type": "code",
   "execution_count": 15,
   "metadata": {
    "collapsed": false
   },
   "outputs": [
    {
     "name": "stdout",
     "output_type": "stream",
     "text": [
      "šaAHinaAt\n"
     ]
    }
   ],
   "source": [
    "print word.decode(\"tex\").encode(\"habash\")"
   ]
  },
  {
   "cell_type": "code",
   "execution_count": 16,
   "metadata": {
    "collapsed": false
   },
   "outputs": [
    {
     "name": "stdout",
     "output_type": "stream",
     "text": [
      "ElixirFM (C) 2016-2005 Otakar Smrz and Viktor Bielicky\n",
      "             2004 Markus Forsberg, 2002 Tim Buckwalter\n",
      "GNU General Public License http://www.gnu.org/licenses/\n",
      "\n",
      "ElixirFM 1.2.1 May 2016\n",
      "\n"
     ]
    }
   ],
   "source": [
    "print elixir.elixir('version')"
   ]
  }
 ],
 "metadata": {
  "kernelspec": {
   "display_name": "Python 2",
   "language": "python",
   "name": "python2"
  },
  "language_info": {
   "codemirror_mode": {
    "name": "ipython",
    "version": 2
   },
   "file_extension": ".py",
   "mimetype": "text/x-python",
   "name": "python",
   "nbconvert_exporter": "python",
   "pygments_lexer": "ipython2",
   "version": "2.7.10"
  }
 },
 "nbformat": 4,
 "nbformat_minor": 0
}
